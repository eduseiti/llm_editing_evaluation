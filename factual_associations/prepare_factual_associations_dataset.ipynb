{
 "cells": [
  {
   "cell_type": "code",
   "execution_count": 1,
   "id": "dfdc15d2-c561-4d28-96b0-c862cbe05733",
   "metadata": {},
   "outputs": [],
   "source": [
    "import os\n",
    "import json\n",
    "import pandas as pd\n",
    "import numpy as np\n",
    "\n",
    "from tqdm.auto import tqdm\n",
    "\n",
    "from llm_access import *"
   ]
  },
  {
   "cell_type": "code",
   "execution_count": 15,
   "id": "f5aa640e-0b1f-462d-bf22-bc8048d8e49c",
   "metadata": {},
   "outputs": [],
   "source": [
    "import pickle\n",
    "\n",
    "from tqdm.auto import tqdm"
   ]
  },
  {
   "cell_type": "code",
   "execution_count": 2,
   "id": "063f9e61-ee8f-47b3-8c19-eb1df389de74",
   "metadata": {},
   "outputs": [],
   "source": [
    "BIOGRAPHY_DATASET=\"../llm_multiagent_debate/biography/article.json\"\n",
    "API_KEYS_FILE=\"../../../api_keys_20240427.json\""
   ]
  },
  {
   "cell_type": "markdown",
   "id": "7e72e09d-11e1-477c-9109-fdab6b9b344b",
   "metadata": {},
   "source": [
    "## Read Biography dataset, which will be the factual associations base"
   ]
  },
  {
   "cell_type": "code",
   "execution_count": 3,
   "id": "70bdbb5d-4692-4eb9-b103-aa3126765313",
   "metadata": {},
   "outputs": [],
   "source": [
    "biography = json.load(open(BIOGRAPHY_DATASET))"
   ]
  },
  {
   "cell_type": "code",
   "execution_count": 4,
   "id": "6ab1fa02-8374-4185-811b-3ed8cd80ba75",
   "metadata": {},
   "outputs": [
    {
     "data": {
      "text/plain": [
       "\"- Aaron Sloman is a philosopher and researcher on artificial intelligence and cognitive science\\n- He held the Chair in Artificial Intelligence and Cognitive Science at the School of Computer Science at the University of Birmingham and previously at the University of Sussex\\n- Sloman has published widely on philosophy of mathematics, epistemology, cognitive science, and artificial intelligence and collaborated with biologist Jackie Chappell on the evolution of intelligence\\n- He was born in Southern Rhodesia (now Zimbabwe) to Lithuanian Jewish parents, and went to school in Cape Town before earning a degree in Mathematics and Physics at the University of Cape Town and a DPhil in philosophy at the University of Oxford\\n- Sloman's philosophical ideas were influenced by Immanuel Kant, Gottlob Frege, Karl Popper and others, and his work in AI by Marvin Minsky and John McCarthy\\n- He is a Fellow of several AI and philosophy associations and received the K. Jon Barwise Prize for contributions to philosophy and computing from the American Philosophical Association in 2020\\n- Sloman has published numerous papers and presentations, including The Computer Revolution in Philosophy, which emphasized the importance of architectures in AI and philosophy\""
      ]
     },
     "execution_count": 4,
     "metadata": {},
     "output_type": "execute_result"
    }
   ],
   "source": [
    "biography[\"Aaron Sloman\"]"
   ]
  },
  {
   "cell_type": "markdown",
   "id": "14e23d9b-09f8-4a82-930f-9a87d9bc9ca0",
   "metadata": {},
   "source": [
    "## Prepare Groq access"
   ]
  },
  {
   "cell_type": "code",
   "execution_count": 5,
   "id": "f76f69a7-5d5b-4de3-bd3e-8a430598f515",
   "metadata": {},
   "outputs": [],
   "source": [
    "groq_key = json.load(open(API_KEYS_FILE))['groq']"
   ]
  },
  {
   "cell_type": "code",
   "execution_count": 6,
   "id": "a7a9e8a7-3109-498a-8448-c3250c6e2f79",
   "metadata": {},
   "outputs": [],
   "source": [
    "groq_interface = groq_access(groq_key, GROQ_LLAMA3_70B_MODEL)"
   ]
  },
  {
   "cell_type": "markdown",
   "id": "7577e4b3-9204-44f8-b976-ed9336f1374c",
   "metadata": {},
   "source": [
    "## Extract factual associations from a biography"
   ]
  },
  {
   "cell_type": "code",
   "execution_count": 7,
   "id": "2cb33e6c-302a-429d-81d3-ca188d938622",
   "metadata": {
    "scrolled": true
   },
   "outputs": [
    {
     "name": "stdout",
     "output_type": "stream",
     "text": [
      "\n",
      "Read the text and return a list of all factual associations you can extract exclusively from it. Write sentences which are self contained and includes the maximum information provided, including the implicit ones and temporal information. For each factual association, identify the subject, the relation and the object. Only output the JSON format, nothing else: {\"sentences\":[{\"subject\":\"<subject-1>\", \"relation\":\"<relation-1>\", \"object\":\"object-1\"}, ..., {\"subject\":\"<subject-n>\", \"relation\":\"<relation-n>\", \"object\":\"object-n\"}]}\n",
      "\n",
      "Text: \"- Aaron Sloman is a philosopher and researcher on artificial intelligence and cognitive science\n",
      "- He held the Chair in Artificial Intelligence and Cognitive Science at the School of Computer Science at the University of Birmingham and previously at the University of Sussex\n",
      "- Sloman has published widely on philosophy of mathematics, epistemology, cognitive science, and artificial intelligence and collaborated with biologist Jackie Chappell on the evolution of intelligence\n",
      "- He was born in Southern Rhodesia (now Zimbabwe) to Lithuanian Jewish parents, and went to school in Cape Town before earning a degree in Mathematics and Physics at the University of Cape Town and a DPhil in philosophy at the University of Oxford\n",
      "- Sloman's philosophical ideas were influenced by Immanuel Kant, Gottlob Frege, Karl Popper and others, and his work in AI by Marvin Minsky and John McCarthy\n",
      "- He is a Fellow of several AI and philosophy associations and received the K. Jon Barwise Prize for contributions to philosophy and computing from the American Philosophical Association in 2020\n",
      "- Sloman has published numerous papers and presentations, including The Computer Revolution in Philosophy, which emphasized the importance of architectures in AI and philosophy\"\n",
      "[{'role': 'system', 'content': 'You read a text and break it down in a sequence of factual associations sentences.'}, {'role': 'user', 'content': 'Read the text and return a list of all factual associations you can extract exclusively from it. Write sentences which are self contained and includes the maximum information provided, including the implicit ones and temporal information. For each factual association, identify the subject, the relation and the object. Only output the JSON format, nothing else: {\"sentences\":[{\"subject\":\"<subject-1>\", \"relation\":\"<relation-1>\", \"object\":\"object-1\"}, ..., {\"subject\":\"<subject-n>\", \"relation\":\"<relation-n>\", \"object\":\"object-n\"}]}\\n\\nText: \"- Aaron Sloman is a philosopher and researcher on artificial intelligence and cognitive science\\n- He held the Chair in Artificial Intelligence and Cognitive Science at the School of Computer Science at the University of Birmingham and previously at the University of Sussex\\n- Sloman has published widely on philosophy of mathematics, epistemology, cognitive science, and artificial intelligence and collaborated with biologist Jackie Chappell on the evolution of intelligence\\n- He was born in Southern Rhodesia (now Zimbabwe) to Lithuanian Jewish parents, and went to school in Cape Town before earning a degree in Mathematics and Physics at the University of Cape Town and a DPhil in philosophy at the University of Oxford\\n- Sloman\\'s philosophical ideas were influenced by Immanuel Kant, Gottlob Frege, Karl Popper and others, and his work in AI by Marvin Minsky and John McCarthy\\n- He is a Fellow of several AI and philosophy associations and received the K. Jon Barwise Prize for contributions to philosophy and computing from the American Philosophical Association in 2020\\n- Sloman has published numerous papers and presentations, including The Computer Revolution in Philosophy, which emphasized the importance of architectures in AI and philosophy\"'}]\n",
      "\n",
      "\n",
      "\n",
      "{\n",
      "\"sentences\":[\n",
      "{\"subject\":\"Aaron Sloman\", \"relation\":\"is\", \"object\":\"a philosopher and researcher on artificial intelligence and cognitive science\"},\n",
      "{\"subject\":\"Aaron Sloman\", \"relation\":\"held\", \"object\":\"the Chair in Artificial Intelligence and Cognitive Science at the School of Computer Science at the University of Birmingham\"},\n",
      "{\"subject\":\"Aaron Sloman\", \"relation\":\"held\", \"object\":\"the Chair in Artificial Intelligence and Cognitive Science at the University of Sussex\"},\n",
      "{\"subject\":\"Aaron Sloman\", \"relation\":\"published\", \"object\":\"widely on philosophy of mathematics, epistemology, cognitive science, and artificial intelligence\"},\n",
      "{\"subject\":\"Aaron Sloman\", \"relation\":\"collaborated\", \"object\":\"with biologist Jackie Chappell on the evolution of intelligence\"},\n",
      "{\"subject\":\"Aaron Sloman\", \"relation\":\"was born\", \"object\":\"in Southern Rhodesia (now Zimbabwe)\"},\n",
      "{\"subject\":\"Aaron Sloman's parents\", \"relation\":\"were\", \"object\":\"Lithuanian Jewish\"},\n",
      "{\"subject\":\"Aaron Sloman\", \"relation\":\"went\", \"object\":\"to school in Cape Town\"},\n",
      "{\"subject\":\"Aaron Sloman\", \"relation\":\"earned\", \"object\":\"a degree in Mathematics and Physics at the University of Cape Town\"},\n",
      "{\"subject\":\"Aaron Sloman\", \"relation\":\"earned\", \"object\":\"a DPhil in philosophy at the University of Oxford\"},\n",
      "{\"subject\":\"Aaron Sloman's philosophical ideas\", \"relation\":\"were influenced\", \"object\":\"by Immanuel Kant, Gottlob Frege, Karl Popper and others\"},\n",
      "{\"subject\":\"Aaron Sloman's work in AI\", \"relation\":\"was influenced\", \"object\":\"by Marvin Minsky and John McCarthy\"},\n",
      "{\"subject\":\"Aaron Sloman\", \"relation\":\"is\", \"object\":\"a Fellow of several AI and philosophy associations\"},\n",
      "{\"subject\":\"Aaron Sloman\", \"relation\":\"received\", \"object\":\"the K. Jon Barwise Prize for contributions to philosophy and computing from the American Philosophical Association in 2020\"},\n",
      "{\"subject\":\"Aaron Sloman\", \"relation\":\"published\", \"object\":\"numerous papers and presentations\"},\n",
      "{\"subject\":\"Aaron Sloman\", \"relation\":\"published\", \"object\":\"The Computer Revolution in Philosophy, which emphasized the importance of architectures in AI and philosophy\"}\n",
      "]\n",
      "}\n",
      "\n",
      "\n",
      "\n",
      "\n",
      "{'sentences': [{'subject': 'Aaron Sloman', 'relation': 'is', 'object': 'a philosopher and researcher on artificial intelligence and cognitive science'}, {'subject': 'Aaron Sloman', 'relation': 'held', 'object': 'the Chair in Artificial Intelligence and Cognitive Science at the School of Computer Science at the University of Birmingham'}, {'subject': 'Aaron Sloman', 'relation': 'held', 'object': 'the Chair in Artificial Intelligence and Cognitive Science at the University of Sussex'}, {'subject': 'Aaron Sloman', 'relation': 'published', 'object': 'widely on philosophy of mathematics, epistemology, cognitive science, and artificial intelligence'}, {'subject': 'Aaron Sloman', 'relation': 'collaborated', 'object': 'with biologist Jackie Chappell on the evolution of intelligence'}, {'subject': 'Aaron Sloman', 'relation': 'was born', 'object': 'in Southern Rhodesia (now Zimbabwe)'}, {'subject': \"Aaron Sloman's parents\", 'relation': 'were', 'object': 'Lithuanian Jewish'}, {'subject': 'Aaron Sloman', 'relation': 'went', 'object': 'to school in Cape Town'}, {'subject': 'Aaron Sloman', 'relation': 'earned', 'object': 'a degree in Mathematics and Physics at the University of Cape Town'}, {'subject': 'Aaron Sloman', 'relation': 'earned', 'object': 'a DPhil in philosophy at the University of Oxford'}, {'subject': \"Aaron Sloman's philosophical ideas\", 'relation': 'were influenced', 'object': 'by Immanuel Kant, Gottlob Frege, Karl Popper and others'}, {'subject': \"Aaron Sloman's work in AI\", 'relation': 'was influenced', 'object': 'by Marvin Minsky and John McCarthy'}, {'subject': 'Aaron Sloman', 'relation': 'is', 'object': 'a Fellow of several AI and philosophy associations'}, {'subject': 'Aaron Sloman', 'relation': 'received', 'object': 'the K. Jon Barwise Prize for contributions to philosophy and computing from the American Philosophical Association in 2020'}, {'subject': 'Aaron Sloman', 'relation': 'published', 'object': 'numerous papers and presentations'}, {'subject': 'Aaron Sloman', 'relation': 'published', 'object': 'The Computer Revolution in Philosophy, which emphasized the importance of architectures in AI and philosophy'}], 'generated_text': '{\\n\"sentences\":[\\n{\"subject\":\"Aaron Sloman\", \"relation\":\"is\", \"object\":\"a philosopher and researcher on artificial intelligence and cognitive science\"},\\n{\"subject\":\"Aaron Sloman\", \"relation\":\"held\", \"object\":\"the Chair in Artificial Intelligence and Cognitive Science at the School of Computer Science at the University of Birmingham\"},\\n{\"subject\":\"Aaron Sloman\", \"relation\":\"held\", \"object\":\"the Chair in Artificial Intelligence and Cognitive Science at the University of Sussex\"},\\n{\"subject\":\"Aaron Sloman\", \"relation\":\"published\", \"object\":\"widely on philosophy of mathematics, epistemology, cognitive science, and artificial intelligence\"},\\n{\"subject\":\"Aaron Sloman\", \"relation\":\"collaborated\", \"object\":\"with biologist Jackie Chappell on the evolution of intelligence\"},\\n{\"subject\":\"Aaron Sloman\", \"relation\":\"was born\", \"object\":\"in Southern Rhodesia (now Zimbabwe)\"},\\n{\"subject\":\"Aaron Sloman\\'s parents\", \"relation\":\"were\", \"object\":\"Lithuanian Jewish\"},\\n{\"subject\":\"Aaron Sloman\", \"relation\":\"went\", \"object\":\"to school in Cape Town\"},\\n{\"subject\":\"Aaron Sloman\", \"relation\":\"earned\", \"object\":\"a degree in Mathematics and Physics at the University of Cape Town\"},\\n{\"subject\":\"Aaron Sloman\", \"relation\":\"earned\", \"object\":\"a DPhil in philosophy at the University of Oxford\"},\\n{\"subject\":\"Aaron Sloman\\'s philosophical ideas\", \"relation\":\"were influenced\", \"object\":\"by Immanuel Kant, Gottlob Frege, Karl Popper and others\"},\\n{\"subject\":\"Aaron Sloman\\'s work in AI\", \"relation\":\"was influenced\", \"object\":\"by Marvin Minsky and John McCarthy\"},\\n{\"subject\":\"Aaron Sloman\", \"relation\":\"is\", \"object\":\"a Fellow of several AI and philosophy associations\"},\\n{\"subject\":\"Aaron Sloman\", \"relation\":\"received\", \"object\":\"the K. Jon Barwise Prize for contributions to philosophy and computing from the American Philosophical Association in 2020\"},\\n{\"subject\":\"Aaron Sloman\", \"relation\":\"published\", \"object\":\"numerous papers and presentations\"},\\n{\"subject\":\"Aaron Sloman\", \"relation\":\"published\", \"object\":\"The Computer Revolution in Philosophy, which emphasized the importance of architectures in AI and philosophy\"}\\n]\\n}', 'prompt_tokens': 380, 'completion_tokens': 461, 'total_tokens': 841, 'total_time': 1.3756834519999999}\n"
     ]
    }
   ],
   "source": [
    "facts = factual_association_extraction(groq_interface, biography[\"Aaron Sloman\"])"
   ]
  },
  {
   "cell_type": "code",
   "execution_count": 8,
   "id": "c7c5219c-89c8-4480-898f-d9dc179d4d16",
   "metadata": {},
   "outputs": [
    {
     "data": {
      "text/plain": [
       "{'sentences': [{'subject': 'Aaron Sloman',\n",
       "   'relation': 'is',\n",
       "   'object': 'a philosopher and researcher on artificial intelligence and cognitive science'},\n",
       "  {'subject': 'Aaron Sloman',\n",
       "   'relation': 'held',\n",
       "   'object': 'the Chair in Artificial Intelligence and Cognitive Science at the School of Computer Science at the University of Birmingham'},\n",
       "  {'subject': 'Aaron Sloman',\n",
       "   'relation': 'held',\n",
       "   'object': 'the Chair in Artificial Intelligence and Cognitive Science at the University of Sussex'},\n",
       "  {'subject': 'Aaron Sloman',\n",
       "   'relation': 'published',\n",
       "   'object': 'widely on philosophy of mathematics, epistemology, cognitive science, and artificial intelligence'},\n",
       "  {'subject': 'Aaron Sloman',\n",
       "   'relation': 'collaborated',\n",
       "   'object': 'with biologist Jackie Chappell on the evolution of intelligence'},\n",
       "  {'subject': 'Aaron Sloman',\n",
       "   'relation': 'was born',\n",
       "   'object': 'in Southern Rhodesia (now Zimbabwe)'},\n",
       "  {'subject': \"Aaron Sloman's parents\",\n",
       "   'relation': 'were',\n",
       "   'object': 'Lithuanian Jewish'},\n",
       "  {'subject': 'Aaron Sloman',\n",
       "   'relation': 'went',\n",
       "   'object': 'to school in Cape Town'},\n",
       "  {'subject': 'Aaron Sloman',\n",
       "   'relation': 'earned',\n",
       "   'object': 'a degree in Mathematics and Physics at the University of Cape Town'},\n",
       "  {'subject': 'Aaron Sloman',\n",
       "   'relation': 'earned',\n",
       "   'object': 'a DPhil in philosophy at the University of Oxford'},\n",
       "  {'subject': \"Aaron Sloman's philosophical ideas\",\n",
       "   'relation': 'were influenced',\n",
       "   'object': 'by Immanuel Kant, Gottlob Frege, Karl Popper and others'},\n",
       "  {'subject': \"Aaron Sloman's work in AI\",\n",
       "   'relation': 'was influenced',\n",
       "   'object': 'by Marvin Minsky and John McCarthy'},\n",
       "  {'subject': 'Aaron Sloman',\n",
       "   'relation': 'is',\n",
       "   'object': 'a Fellow of several AI and philosophy associations'},\n",
       "  {'subject': 'Aaron Sloman',\n",
       "   'relation': 'received',\n",
       "   'object': 'the K. Jon Barwise Prize for contributions to philosophy and computing from the American Philosophical Association in 2020'},\n",
       "  {'subject': 'Aaron Sloman',\n",
       "   'relation': 'published',\n",
       "   'object': 'numerous papers and presentations'},\n",
       "  {'subject': 'Aaron Sloman',\n",
       "   'relation': 'published',\n",
       "   'object': 'The Computer Revolution in Philosophy, which emphasized the importance of architectures in AI and philosophy'}],\n",
       " 'generated_text': '{\\n\"sentences\":[\\n{\"subject\":\"Aaron Sloman\", \"relation\":\"is\", \"object\":\"a philosopher and researcher on artificial intelligence and cognitive science\"},\\n{\"subject\":\"Aaron Sloman\", \"relation\":\"held\", \"object\":\"the Chair in Artificial Intelligence and Cognitive Science at the School of Computer Science at the University of Birmingham\"},\\n{\"subject\":\"Aaron Sloman\", \"relation\":\"held\", \"object\":\"the Chair in Artificial Intelligence and Cognitive Science at the University of Sussex\"},\\n{\"subject\":\"Aaron Sloman\", \"relation\":\"published\", \"object\":\"widely on philosophy of mathematics, epistemology, cognitive science, and artificial intelligence\"},\\n{\"subject\":\"Aaron Sloman\", \"relation\":\"collaborated\", \"object\":\"with biologist Jackie Chappell on the evolution of intelligence\"},\\n{\"subject\":\"Aaron Sloman\", \"relation\":\"was born\", \"object\":\"in Southern Rhodesia (now Zimbabwe)\"},\\n{\"subject\":\"Aaron Sloman\\'s parents\", \"relation\":\"were\", \"object\":\"Lithuanian Jewish\"},\\n{\"subject\":\"Aaron Sloman\", \"relation\":\"went\", \"object\":\"to school in Cape Town\"},\\n{\"subject\":\"Aaron Sloman\", \"relation\":\"earned\", \"object\":\"a degree in Mathematics and Physics at the University of Cape Town\"},\\n{\"subject\":\"Aaron Sloman\", \"relation\":\"earned\", \"object\":\"a DPhil in philosophy at the University of Oxford\"},\\n{\"subject\":\"Aaron Sloman\\'s philosophical ideas\", \"relation\":\"were influenced\", \"object\":\"by Immanuel Kant, Gottlob Frege, Karl Popper and others\"},\\n{\"subject\":\"Aaron Sloman\\'s work in AI\", \"relation\":\"was influenced\", \"object\":\"by Marvin Minsky and John McCarthy\"},\\n{\"subject\":\"Aaron Sloman\", \"relation\":\"is\", \"object\":\"a Fellow of several AI and philosophy associations\"},\\n{\"subject\":\"Aaron Sloman\", \"relation\":\"received\", \"object\":\"the K. Jon Barwise Prize for contributions to philosophy and computing from the American Philosophical Association in 2020\"},\\n{\"subject\":\"Aaron Sloman\", \"relation\":\"published\", \"object\":\"numerous papers and presentations\"},\\n{\"subject\":\"Aaron Sloman\", \"relation\":\"published\", \"object\":\"The Computer Revolution in Philosophy, which emphasized the importance of architectures in AI and philosophy\"}\\n]\\n}',\n",
       " 'prompt_tokens': 380,\n",
       " 'completion_tokens': 461,\n",
       " 'total_tokens': 841,\n",
       " 'total_time': 1.3756834519999999}"
      ]
     },
     "execution_count": 8,
     "metadata": {},
     "output_type": "execute_result"
    }
   ],
   "source": [
    "facts"
   ]
  },
  {
   "cell_type": "markdown",
   "id": "41bd1991-a9f3-4d0d-8b29-55d326caca90",
   "metadata": {},
   "source": [
    "## Generate questions from the same biography"
   ]
  },
  {
   "cell_type": "code",
   "execution_count": 9,
   "id": "e6b586f6-ef62-4790-bce1-f36fa4dabfa7",
   "metadata": {},
   "outputs": [
    {
     "name": "stdout",
     "output_type": "stream",
     "text": [
      "\n",
      "Read the text and generate questions following the steps:\n",
      "1. Extract a list of factual associations from the text, including implicit information and temporal relations.\n",
      "2. Create a list of questions and answers from the factual associations.\n",
      "Only output the JSON format, nothing else: {\"questions\":[{\"question\": \"<question-1>\", \"answer\": \"<answer-1>\"}, ..., {\"question\": \"<question-n>\", \"answer\": \"<answer-n>\"}].\n",
      "\n",
      "Text: \"- Aaron Sloman is a philosopher and researcher on artificial intelligence and cognitive science\n",
      "- He held the Chair in Artificial Intelligence and Cognitive Science at the School of Computer Science at the University of Birmingham and previously at the University of Sussex\n",
      "- Sloman has published widely on philosophy of mathematics, epistemology, cognitive science, and artificial intelligence and collaborated with biologist Jackie Chappell on the evolution of intelligence\n",
      "- He was born in Southern Rhodesia (now Zimbabwe) to Lithuanian Jewish parents, and went to school in Cape Town before earning a degree in Mathematics and Physics at the University of Cape Town and a DPhil in philosophy at the University of Oxford\n",
      "- Sloman's philosophical ideas were influenced by Immanuel Kant, Gottlob Frege, Karl Popper and others, and his work in AI by Marvin Minsky and John McCarthy\n",
      "- He is a Fellow of several AI and philosophy associations and received the K. Jon Barwise Prize for contributions to philosophy and computing from the American Philosophical Association in 2020\n",
      "- Sloman has published numerous papers and presentations, including The Computer Revolution in Philosophy, which emphasized the importance of architectures in AI and philosophy\"\n",
      "[{'role': 'system', 'content': 'You read a text, break it down in a sequence of factual associations sentences and generate questions about them.'}, {'role': 'user', 'content': 'Read the text and generate questions following the steps:\\n1. Extract a list of factual associations from the text, including implicit information and temporal relations.\\n2. Create a list of questions and answers from the factual associations.\\nOnly output the JSON format, nothing else: {\"questions\":[{\"question\": \"<question-1>\", \"answer\": \"<answer-1>\"}, ..., {\"question\": \"<question-n>\", \"answer\": \"<answer-n>\"}].\\n\\nText: \"- Aaron Sloman is a philosopher and researcher on artificial intelligence and cognitive science\\n- He held the Chair in Artificial Intelligence and Cognitive Science at the School of Computer Science at the University of Birmingham and previously at the University of Sussex\\n- Sloman has published widely on philosophy of mathematics, epistemology, cognitive science, and artificial intelligence and collaborated with biologist Jackie Chappell on the evolution of intelligence\\n- He was born in Southern Rhodesia (now Zimbabwe) to Lithuanian Jewish parents, and went to school in Cape Town before earning a degree in Mathematics and Physics at the University of Cape Town and a DPhil in philosophy at the University of Oxford\\n- Sloman\\'s philosophical ideas were influenced by Immanuel Kant, Gottlob Frege, Karl Popper and others, and his work in AI by Marvin Minsky and John McCarthy\\n- He is a Fellow of several AI and philosophy associations and received the K. Jon Barwise Prize for contributions to philosophy and computing from the American Philosophical Association in 2020\\n- Sloman has published numerous papers and presentations, including The Computer Revolution in Philosophy, which emphasized the importance of architectures in AI and philosophy\"'}]\n",
      "\n",
      "\n",
      "\n",
      "{\"questions\":[{\"question\": \"What is Aaron Sloman's profession?\", \"answer\": \"philosopher and researcher on artificial intelligence and cognitive science\"}, \n",
      "{\"question\": \"What position did Aaron Sloman hold at the University of Birmingham?\", \"answer\": \"Chair in Artificial Intelligence and Cognitive Science\"}, \n",
      "{\"question\": \"What subjects has Aaron Sloman published widely on?\", \"answer\": \"philosophy of mathematics, epistemology, cognitive science, and artificial intelligence\"}, \n",
      "{\"question\": \"Who did Aaron Sloman collaborate with on the evolution of intelligence?\", \"answer\": \"biologist Jackie Chappell\"}, \n",
      "{\"question\": \"Where was Aaron Sloman born?\", \"answer\": \"Southern Rhodesia (now Zimbabwe)\"}, \n",
      "{\"question\": \"What was Aaron Sloman's parents' ethnicity?\", \"answer\": \"Lithuanian Jewish\"}, \n",
      "{\"question\": \"Where did Aaron Sloman go to school?\", \"answer\": \"Cape Town\"}, \n",
      "{\"question\": \"What degree did Aaron Sloman earn at the University of Cape Town?\", \"answer\": \"Mathematics and Physics\"}, \n",
      "{\"question\": \"What degree did Aaron Sloman earn at the University of Oxford?\", \"answer\": \"DPhil in philosophy\"}, \n",
      "{\"question\": \"Who influenced Aaron Sloman's philosophical ideas?\", \"answer\": \"Immanuel Kant, Gottlob Frege, Karl Popper and others\"}, \n",
      "{\"question\": \"Who influenced Aaron Sloman's work in AI?\", \"answer\": \"Marvin Minsky and John McCarthy\"}, \n",
      "{\"question\": \"What award did Aaron Sloman receive in 2020?\", \"answer\": \"K. Jon Barwise Prize for contributions to philosophy and computing\"}, \n",
      "{\"question\": \"What is the title of one of Aaron Sloman's publications?\", \"answer\": \"The Computer Revolution in Philosophy\"}]}\n",
      "\n",
      "\n",
      "\n",
      "\n",
      "{'questions': [{'question': \"What is Aaron Sloman's profession?\", 'answer': 'philosopher and researcher on artificial intelligence and cognitive science'}, {'question': 'What position did Aaron Sloman hold at the University of Birmingham?', 'answer': 'Chair in Artificial Intelligence and Cognitive Science'}, {'question': 'What subjects has Aaron Sloman published widely on?', 'answer': 'philosophy of mathematics, epistemology, cognitive science, and artificial intelligence'}, {'question': 'Who did Aaron Sloman collaborate with on the evolution of intelligence?', 'answer': 'biologist Jackie Chappell'}, {'question': 'Where was Aaron Sloman born?', 'answer': 'Southern Rhodesia (now Zimbabwe)'}, {'question': \"What was Aaron Sloman's parents' ethnicity?\", 'answer': 'Lithuanian Jewish'}, {'question': 'Where did Aaron Sloman go to school?', 'answer': 'Cape Town'}, {'question': 'What degree did Aaron Sloman earn at the University of Cape Town?', 'answer': 'Mathematics and Physics'}, {'question': 'What degree did Aaron Sloman earn at the University of Oxford?', 'answer': 'DPhil in philosophy'}, {'question': \"Who influenced Aaron Sloman's philosophical ideas?\", 'answer': 'Immanuel Kant, Gottlob Frege, Karl Popper and others'}, {'question': \"Who influenced Aaron Sloman's work in AI?\", 'answer': 'Marvin Minsky and John McCarthy'}, {'question': 'What award did Aaron Sloman receive in 2020?', 'answer': 'K. Jon Barwise Prize for contributions to philosophy and computing'}, {'question': \"What is the title of one of Aaron Sloman's publications?\", 'answer': 'The Computer Revolution in Philosophy'}], 'generated_text': '{\"questions\":[{\"question\": \"What is Aaron Sloman\\'s profession?\", \"answer\": \"philosopher and researcher on artificial intelligence and cognitive science\"}, \\n{\"question\": \"What position did Aaron Sloman hold at the University of Birmingham?\", \"answer\": \"Chair in Artificial Intelligence and Cognitive Science\"}, \\n{\"question\": \"What subjects has Aaron Sloman published widely on?\", \"answer\": \"philosophy of mathematics, epistemology, cognitive science, and artificial intelligence\"}, \\n{\"question\": \"Who did Aaron Sloman collaborate with on the evolution of intelligence?\", \"answer\": \"biologist Jackie Chappell\"}, \\n{\"question\": \"Where was Aaron Sloman born?\", \"answer\": \"Southern Rhodesia (now Zimbabwe)\"}, \\n{\"question\": \"What was Aaron Sloman\\'s parents\\' ethnicity?\", \"answer\": \"Lithuanian Jewish\"}, \\n{\"question\": \"Where did Aaron Sloman go to school?\", \"answer\": \"Cape Town\"}, \\n{\"question\": \"What degree did Aaron Sloman earn at the University of Cape Town?\", \"answer\": \"Mathematics and Physics\"}, \\n{\"question\": \"What degree did Aaron Sloman earn at the University of Oxford?\", \"answer\": \"DPhil in philosophy\"}, \\n{\"question\": \"Who influenced Aaron Sloman\\'s philosophical ideas?\", \"answer\": \"Immanuel Kant, Gottlob Frege, Karl Popper and others\"}, \\n{\"question\": \"Who influenced Aaron Sloman\\'s work in AI?\", \"answer\": \"Marvin Minsky and John McCarthy\"}, \\n{\"question\": \"What award did Aaron Sloman receive in 2020?\", \"answer\": \"K. Jon Barwise Prize for contributions to philosophy and computing\"}, \\n{\"question\": \"What is the title of one of Aaron Sloman\\'s publications?\", \"answer\": \"The Computer Revolution in Philosophy\"}]}', 'prompt_tokens': 361, 'completion_tokens': 373, 'total_tokens': 734, 'total_time': 1.107533643}\n"
     ]
    }
   ],
   "source": [
    "questions = questions_generation(groq_interface, biography[\"Aaron Sloman\"])"
   ]
  },
  {
   "cell_type": "code",
   "execution_count": 10,
   "id": "6b4bb32d-1241-4a6d-aa7b-ffdcd2492abd",
   "metadata": {},
   "outputs": [
    {
     "data": {
      "text/plain": [
       "{'questions': [{'question': \"What is Aaron Sloman's profession?\",\n",
       "   'answer': 'philosopher and researcher on artificial intelligence and cognitive science'},\n",
       "  {'question': 'What position did Aaron Sloman hold at the University of Birmingham?',\n",
       "   'answer': 'Chair in Artificial Intelligence and Cognitive Science'},\n",
       "  {'question': 'What subjects has Aaron Sloman published widely on?',\n",
       "   'answer': 'philosophy of mathematics, epistemology, cognitive science, and artificial intelligence'},\n",
       "  {'question': 'Who did Aaron Sloman collaborate with on the evolution of intelligence?',\n",
       "   'answer': 'biologist Jackie Chappell'},\n",
       "  {'question': 'Where was Aaron Sloman born?',\n",
       "   'answer': 'Southern Rhodesia (now Zimbabwe)'},\n",
       "  {'question': \"What was Aaron Sloman's parents' ethnicity?\",\n",
       "   'answer': 'Lithuanian Jewish'},\n",
       "  {'question': 'Where did Aaron Sloman go to school?', 'answer': 'Cape Town'},\n",
       "  {'question': 'What degree did Aaron Sloman earn at the University of Cape Town?',\n",
       "   'answer': 'Mathematics and Physics'},\n",
       "  {'question': 'What degree did Aaron Sloman earn at the University of Oxford?',\n",
       "   'answer': 'DPhil in philosophy'},\n",
       "  {'question': \"Who influenced Aaron Sloman's philosophical ideas?\",\n",
       "   'answer': 'Immanuel Kant, Gottlob Frege, Karl Popper and others'},\n",
       "  {'question': \"Who influenced Aaron Sloman's work in AI?\",\n",
       "   'answer': 'Marvin Minsky and John McCarthy'},\n",
       "  {'question': 'What award did Aaron Sloman receive in 2020?',\n",
       "   'answer': 'K. Jon Barwise Prize for contributions to philosophy and computing'},\n",
       "  {'question': \"What is the title of one of Aaron Sloman's publications?\",\n",
       "   'answer': 'The Computer Revolution in Philosophy'}],\n",
       " 'generated_text': '{\"questions\":[{\"question\": \"What is Aaron Sloman\\'s profession?\", \"answer\": \"philosopher and researcher on artificial intelligence and cognitive science\"}, \\n{\"question\": \"What position did Aaron Sloman hold at the University of Birmingham?\", \"answer\": \"Chair in Artificial Intelligence and Cognitive Science\"}, \\n{\"question\": \"What subjects has Aaron Sloman published widely on?\", \"answer\": \"philosophy of mathematics, epistemology, cognitive science, and artificial intelligence\"}, \\n{\"question\": \"Who did Aaron Sloman collaborate with on the evolution of intelligence?\", \"answer\": \"biologist Jackie Chappell\"}, \\n{\"question\": \"Where was Aaron Sloman born?\", \"answer\": \"Southern Rhodesia (now Zimbabwe)\"}, \\n{\"question\": \"What was Aaron Sloman\\'s parents\\' ethnicity?\", \"answer\": \"Lithuanian Jewish\"}, \\n{\"question\": \"Where did Aaron Sloman go to school?\", \"answer\": \"Cape Town\"}, \\n{\"question\": \"What degree did Aaron Sloman earn at the University of Cape Town?\", \"answer\": \"Mathematics and Physics\"}, \\n{\"question\": \"What degree did Aaron Sloman earn at the University of Oxford?\", \"answer\": \"DPhil in philosophy\"}, \\n{\"question\": \"Who influenced Aaron Sloman\\'s philosophical ideas?\", \"answer\": \"Immanuel Kant, Gottlob Frege, Karl Popper and others\"}, \\n{\"question\": \"Who influenced Aaron Sloman\\'s work in AI?\", \"answer\": \"Marvin Minsky and John McCarthy\"}, \\n{\"question\": \"What award did Aaron Sloman receive in 2020?\", \"answer\": \"K. Jon Barwise Prize for contributions to philosophy and computing\"}, \\n{\"question\": \"What is the title of one of Aaron Sloman\\'s publications?\", \"answer\": \"The Computer Revolution in Philosophy\"}]}',\n",
       " 'prompt_tokens': 361,\n",
       " 'completion_tokens': 373,\n",
       " 'total_tokens': 734,\n",
       " 'total_time': 1.107533643}"
      ]
     },
     "execution_count": 10,
     "metadata": {},
     "output_type": "execute_result"
    }
   ],
   "source": [
    "questions"
   ]
  },
  {
   "cell_type": "code",
   "execution_count": 14,
   "id": "48ba0683-c5cb-4c64-a8f0-adf54e1ac8e5",
   "metadata": {},
   "outputs": [],
   "source": [
    "with open(\"extracted_factual_associations_20240616.pkl\", \"wb\") as output_file:\n",
    "    pickle.dump({\"facts\": facts[\"sentences\"],\n",
    "                 \"questions\": questions[\"questions\"]}, output_file, pickle.HIGHEST_PROTOCOL)"
   ]
  },
  {
   "cell_type": "code",
   "execution_count": null,
   "id": "5d22310b-352f-47ee-8891-b4875d4172f0",
   "metadata": {},
   "outputs": [],
   "source": []
  }
 ],
 "metadata": {
  "kernelspec": {
   "display_name": "Python 3 (ipykernel)",
   "language": "python",
   "name": "python3"
  },
  "language_info": {
   "codemirror_mode": {
    "name": "ipython",
    "version": 3
   },
   "file_extension": ".py",
   "mimetype": "text/x-python",
   "name": "python",
   "nbconvert_exporter": "python",
   "pygments_lexer": "ipython3",
   "version": "3.10.14"
  }
 },
 "nbformat": 4,
 "nbformat_minor": 5
}
